{
 "cells": [
  {
   "cell_type": "code",
   "execution_count": 1,
   "id": "e2dcf9b1-561c-4433-88d3-bee9634a906b",
   "metadata": {
    "tags": []
   },
   "outputs": [
    {
     "name": "stdout",
     "output_type": "stream",
     "text": [
      "forex.csv  forex.ipynb  requirements.txt\n"
     ]
    }
   ],
   "source": [
    "ls"
   ]
  },
  {
   "cell_type": "code",
   "execution_count": 24,
   "id": "732be0a5-bcc4-49d4-a481-796c1835de17",
   "metadata": {
    "tags": []
   },
   "outputs": [],
   "source": [
    "# Importing necessary libraries\n",
    "import pandas as pd  # For data manipulation and analysis\n",
    "import numpy as np  # For numerical operations\n",
    "from sklearn.model_selection import train_test_split, GridSearchCV  # For splitting the data and performing hyperparameter tuning\n",
    "from sklearn.ensemble import RandomForestRegressor, BaggingRegressor  # For machine learning models\n",
    "from sklearn.metrics import mean_squared_error  # For evaluating the model performance\n",
    "import xgboost as xgb  # For XGBoost machine learning model\n",
    "import matplotlib.pyplot as plt  # For data visualization\n"
   ]
  },
  {
   "cell_type": "code",
   "execution_count": 25,
   "id": "eccf533d-4123-434d-8b4b-f97c0dcc6868",
   "metadata": {
    "tags": []
   },
   "outputs": [
    {
     "name": "stdout",
     "output_type": "stream",
     "text": [
      "Requirement already satisfied: xgboost in /home/ec2-user/anaconda3/envs/python3/lib/python3.10/site-packages (2.1.0)\n",
      "Requirement already satisfied: numpy in /home/ec2-user/anaconda3/envs/python3/lib/python3.10/site-packages (from xgboost) (1.22.4)\n",
      "Requirement already satisfied: scipy in /home/ec2-user/anaconda3/envs/python3/lib/python3.10/site-packages (from xgboost) (1.13.1)\n"
     ]
    }
   ],
   "source": [
    "!pip install xgboost"
   ]
  },
  {
   "cell_type": "code",
   "execution_count": 30,
   "id": "2ec21f80-bd8c-4e45-9698-430526151ff4",
   "metadata": {
    "tags": []
   },
   "outputs": [
    {
     "name": "stdout",
     "output_type": "stream",
     "text": [
      "Original columns: Index(['Date', 'Price', 'Open', 'High', 'Low', 'Vol.', 'Change %'], dtype='object')\n",
      "Cleaned columns: Index(['Date', 'Price', 'Open', 'High', 'Low', 'Vol.', 'Change %'], dtype='object')\n",
      "First five rows of the dataset:\n",
      "         Date   Price    Open    High     Low  Vol. Change %\n",
      "0  07/19/2024  171.30  171.48  171.90  170.90   NaN   -0.08%\n",
      "1  07/18/2024  171.44  170.82  171.60  169.98   NaN    0.38%\n",
      "2  07/17/2024  170.79  172.59  172.86  170.69   NaN   -1.01%\n",
      "3  07/16/2024  172.54  172.17  172.96  172.13   NaN    0.23%\n",
      "4  07/15/2024  172.14  172.20  172.57  171.57   NaN   -0.03%\n",
      "\n",
      "Last five rows of the dataset:\n",
      "            Date   Price    Open    High     Low  Vol. Change %\n",
      "6397  01/07/2000  108.44  108.67  109.03  107.74   NaN   -0.20%\n",
      "6398  01/06/2000  108.66  107.65  109.31  107.14   NaN    0.99%\n",
      "6399  01/05/2000  107.59  106.34  107.75  105.65   NaN    1.04%\n",
      "6400  01/04/2000  106.48  104.02  106.60  103.92   NaN    2.10%\n",
      "6401  01/03/2000  104.29  102.66  104.39  102.07   NaN    1.22%\n"
     ]
    }
   ],
   "source": [
    "# Function to load CSV data\n",
    "def load_data(file_path):\n",
    "    df = pd.read_csv(file_path)  # Read the CSV file into a DataFrame\n",
    "    return df  # Return the DataFrame\n",
    "\n",
    "# Load the data\n",
    "file_path = 'forex.csv'  # Path to the CSV file\n",
    "df = load_data(file_path)  # Load the data\n",
    "\n",
    "# Print original column names to debug\n",
    "print(\"Original columns:\", df.columns)\n",
    "\n",
    "# Clean the column names\n",
    "df.columns = df.columns.str.strip().str.replace('\"', '')\n",
    "\n",
    "# Print cleaned column names to debug\n",
    "print(\"Cleaned columns:\", df.columns)\n",
    "\n",
    "# Visualize the first and last five rows of the dataset\n",
    "print(\"First five rows of the dataset:\")\n",
    "print(df.head())\n",
    "print(\"\\nLast five rows of the dataset:\")\n",
    "print(df.tail())\n",
    "\n"
   ]
  },
  {
   "cell_type": "code",
   "execution_count": 31,
   "id": "f4bb520b-c2da-4b31-9c80-5bddfa1f460b",
   "metadata": {
    "tags": []
   },
   "outputs": [],
   "source": [
    "# Function to preprocess the data\n",
    "def preprocess_data(df):\n",
    "    print(\"Preprocessing data...\")\n",
    "    print(\"Before preprocessing:\")\n",
    "    print(df.head())\n",
    "    df['Date'] = pd.to_datetime(df['Date'], format='%m/%d/%Y')  # Correct date format\n",
    "    df.set_index('Date', inplace=True)\n",
    "\n",
    "    df['Price_diff'] = df['Price'].diff()\n",
    "    df['Open_diff'] = df['Open'].diff()\n",
    "    df['High_diff'] = df['High'].diff()\n",
    "    df['Low_diff'] = df['Low'].diff()\n",
    "    df['Change_diff'] = df['Change %'].str.replace('%', '').astype(float).diff()\n",
    "\n",
    "    df['Vol.'] = df['Vol.'].replace('', 0).astype(float)\n",
    "    df['Vol_diff'] = df['Vol.'].diff()\n",
    "\n",
    "    df.dropna(inplace=True)\n",
    "    \n",
    "    print(\"After preprocessing:\")\n",
    "    print(df.head())\n",
    "\n",
    "\n",
    "    X = df[['Open', 'High', 'Low', 'Vol.', 'Price_diff', 'Open_diff', 'High_diff', 'Low_diff', 'Vol_diff', 'Change_diff']]\n",
    "    y = df['Price']\n",
    "   \n",
    "    print(\"Data preprocessing completed.\")\n",
    "    return X, y\n"
   ]
  },
  {
   "cell_type": "code",
   "execution_count": null,
   "id": "decb5777-23c2-4d4e-b011-57e9cc5675f6",
   "metadata": {},
   "outputs": [],
   "source": []
  }
 ],
 "metadata": {
  "kernelspec": {
   "display_name": "conda_python3",
   "language": "python",
   "name": "conda_python3"
  },
  "language_info": {
   "codemirror_mode": {
    "name": "ipython",
    "version": 3
   },
   "file_extension": ".py",
   "mimetype": "text/x-python",
   "name": "python",
   "nbconvert_exporter": "python",
   "pygments_lexer": "ipython3",
   "version": "3.10.14"
  }
 },
 "nbformat": 4,
 "nbformat_minor": 5
}
